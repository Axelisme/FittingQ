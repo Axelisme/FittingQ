{
 "cells": [
  {
   "cell_type": "code",
   "execution_count": 1,
   "id": "8839561e",
   "metadata": {},
   "outputs": [],
   "source": [
    "import numpy as np\n",
    "\n",
    "FreqB = (4.5, 6.0)  # GHz\n",
    "peakB = (0.5, 2.0)\n",
    "widthB = (0.005, 0.01)  # GHz\n",
    "noice = 0.25\n",
    "fpts = np.linspace(FreqB[0], FreqB[1], 300)  # (h,)\n",
    "transitions = [(0, 1), (0, 2), (1, 2), (0, 3), (1, 3)]\n",
    "weights = np.array([2, 1, 0.5, 0.5, 0.2])"
   ]
  },
  {
   "cell_type": "code",
   "execution_count": 2,
   "id": "160bd831",
   "metadata": {},
   "outputs": [],
   "source": [
    "from scqubits import Fluxonium\n",
    "\n",
    "def calculate_spectrum(flxs, EJ, EC, EL, evals_count=4, cutoff=50):\n",
    "    fluxonium = Fluxonium(EJ, EC, EL, flux=0.0, cutoff=cutoff, truncated_dim=evals_count)\n",
    "    spectrumData = fluxonium.get_spectrum_vs_paramvals(\n",
    "        \"flux\", flxs, evals_count=evals_count\n",
    "    )\n",
    "\n",
    "    return spectrumData.energy_table\n",
    "\n",
    "def lorfunc(x, yscale, x0, gamma):\n",
    "    return yscale / (1 + ((x - x0) / gamma) ** 2)\n",
    "\n",
    "\n",
    "def make_spectrum(self, energies):\n",
    "    # energies: (n, m')\n",
    "    fs = []\n",
    "    yscales = []\n",
    "    for idx in range(len(transitions)):\n",
    "        i, j = transitions[idx]\n",
    "        w = weights[idx]\n",
    "        fs.append(energies[:, j] - energies[:, i])\n",
    "        yscales.append(w * np.random.uniform(0.8, 1.2))\n",
    "    fs = np.stack(fs, axis=1)  # (n, m)\n",
    "    yscales = np.array(yscales)  # (m,)\n",
    "    _, m = fs.shape\n",
    "\n",
    "    # calculate the spectrum\n",
    "    yscales *= np.random.choice([-1, 1], m)\n",
    "    yscales = yscales[None, None, :]  # (1, 1, m)\n",
    "    gammas = np.random.uniform(*widthB, (1, 1, m))\n",
    "    xs = fpts[None, :, None]  # (1, h, 1)\n",
    "    x0s = fs[:, None, :]  # (n, 1, m)\n",
    "    ys = lorfunc(xs, yscales, x0s, gammas)  # (n, h, m)\n",
    "    spectrum = np.sum(ys, axis=-1)  # (n, h)\n",
    "\n",
    "    # add noise\n",
    "    spectrum += np.random.normal(0, noice, spectrum.shape)\n",
    "\n",
    "    return spectrum # (n, h)"
   ]
  },
  {
   "cell_type": "code",
   "execution_count": null,
   "id": "6fb2c02e",
   "metadata": {},
   "outputs": [],
   "source": [
    "EJb = (4.0, 6.0)\n",
    "ECb = (0.5, 1.0)\n",
    "ELb = (1.0, 2.0)\n",
    "\n",
    "level = 4\n",
    "total_num = 121\n",
    "\n",
    "flxs = np.linspace(0.0, 1.0, total_num)\n",
    "EJ = np.random.uniform(*EJb)\n",
    "EC = np.random.uniform(*ECb)\n",
    "EL = np.random.uniform(*ELb)\n",
    "print(\"EJ, EC, EL:\", EJ, EC, EL)\n",
    "energies = calculate_spectrum(flxs, EJ, EC, EL, level, 50)"
   ]
  },
  {
   "cell_type": "code",
   "execution_count": 4,
   "id": "b7469ee5",
   "metadata": {},
   "outputs": [],
   "source": [
    "spectrum = make_spectrum(flxs, energies)"
   ]
  },
  {
   "cell_type": "code",
   "execution_count": null,
   "id": "cbe2ff1b",
   "metadata": {},
   "outputs": [],
   "source": [
    "import matplotlib.pyplot as plt\n",
    "\n",
    "plt.figure()\n",
    "plt.pcolormesh(flxs, fpts, spectrum.T)"
   ]
  },
  {
   "cell_type": "markdown",
   "id": "46693a25",
   "metadata": {},
   "source": [
    "# NN"
   ]
  },
  {
   "cell_type": "code",
   "execution_count": null,
   "id": "c6d22a80",
   "metadata": {},
   "outputs": [],
   "source": [
    "# fit the spectrumData\n",
    "import torch\n",
    "from modules.model import PredictNet\n",
    "from modules.baseblock import ResNet18\n",
    "from torch.nn import MSELoss\n",
    "\n",
    "model_path = \"ckpt/resnet18.pth\"\n",
    "model = PredictNet(ResNet18)\n",
    "model.load_state_dict(torch.load(model_path, weights_only=True))\n",
    "criterion = MSELoss()\n",
    "\n",
    "model.eval()\n",
    "model.cuda()\n",
    "criterion.cuda()\n",
    "with torch.no_grad():\n",
    "    nn_params = model(torch.tensor(\n",
    "        spectrum,\n",
    "        dtype=torch.float32,\n",
    "        device=\"cuda\"\n",
    "    )[None, ...])\n",
    "    true_params = (\n",
    "        (EJ - EJb[0]) / (EJb[1] - EJb[0]),\n",
    "        (EC - ECb[0]) / (ECb[1] - ECb[0]),\n",
    "        (EL - ELb[0]) / (ELb[1] - ELb[0]),\n",
    "    )\n",
    "    loss = criterion(nn_params, torch.tensor([true_params], dtype=torch.float32, device=\"cuda\"))\n",
    "    print(\"Loss:\", loss.item())\n",
    "\n",
    "    nn_params = nn_params.cpu().numpy()[0].tolist()\n",
    "    nn_params = (\n",
    "        nn_params[0] * (EJb[1] - EJb[0]) + EJb[0],\n",
    "        nn_params[1] * (ECb[1] - ECb[0]) + ECb[0],\n",
    "        nn_params[2] * (ELb[1] - ELb[0]) + ELb[0],\n",
    "    )\n",
    "\n",
    "# print the results\n",
    "print(\"True params:\", EJ, EC, EL)\n",
    "print(\"Fitted params:\", *nn_params)"
   ]
  },
  {
   "cell_type": "code",
   "execution_count": null,
   "id": "7f2f643d",
   "metadata": {},
   "outputs": [],
   "source": [
    "f_energies = calculate_spectrum(flxs, *nn_params, level, 50)"
   ]
  },
  {
   "cell_type": "code",
   "execution_count": null,
   "id": "a8be41f8",
   "metadata": {},
   "outputs": [],
   "source": [
    "\n",
    "for i, j in transitions:\n",
    "    plt.plot(flxs, f_energies[:, j] - f_energies[:, i], label=f\"{i}-{j}\")\n",
    "\n",
    "for i, j in transitions:\n",
    "    plt.plot(flxs, energies[:, j] - energies[:, i], \"--\", label=f\"{i}-{j}\")\n",
    "\n",
    "plt.ylim(FreqB)\n",
    "plt.legend()\n",
    "plt.show()"
   ]
  },
  {
   "cell_type": "markdown",
   "id": "6cc9f5f9",
   "metadata": {},
   "source": [
    "# Scipy"
   ]
  },
  {
   "cell_type": "code",
   "execution_count": 9,
   "id": "19214468",
   "metadata": {},
   "outputs": [],
   "source": [
    "from scipy.ndimage import gaussian_filter1d\n",
    "\n",
    "def NormalizeData(signals2D: np.ndarray, axis=None) -> np.ndarray:\n",
    "    # normalize on given axis\n",
    "    mins = np.nanmin(signals2D, axis=axis, keepdims=True)\n",
    "    maxs = np.nanmax(signals2D, axis=axis, keepdims=True)\n",
    "    meds = np.nanmedian(signals2D, axis=axis, keepdims=True)\n",
    "    return (signals2D - meds) / (maxs - mins)\n",
    "\n",
    "\n",
    "def spectrum_analyze(flxs, fpts, amps, ratio):\n",
    "    \"\"\"\n",
    "    flxs: 1D array, flux points\n",
    "    fpts: 1D array, frequency points\n",
    "    amps: 2D array, shape: (len(fpts), len(flxs))\n",
    "    \"\"\"\n",
    "    # use guassian filter to smooth the spectrum\n",
    "    amps = gaussian_filter1d(amps, 3, axis=0)\n",
    "    amps = NormalizeData(amps, 0)  # normalize on frequency axis\n",
    "    amps = np.abs(amps)\n",
    "\n",
    "    # plot max point and min point of each row\n",
    "    max_ids = np.argmax(amps, axis=0)\n",
    "    maxs = amps[max_ids, np.arange(amps.shape[1])]\n",
    "\n",
    "    # max points\n",
    "    max_masks = maxs >= ratio\n",
    "    fs = fpts[max_ids]\n",
    "    fs[~max_masks] = np.nan\n",
    "    mask = ~np.isnan(fs)\n",
    "\n",
    "    return flxs[mask], fs[mask]\n",
    "\n",
    "s_flxs, s_fs = spectrum_analyze(flxs, fpts, spectrum.T, 0.6)"
   ]
  },
  {
   "cell_type": "code",
   "execution_count": 10,
   "id": "2907f139",
   "metadata": {},
   "outputs": [],
   "source": [
    "# remove some close points\n",
    "mask = np.ones(len(s_flxs), dtype=bool)\n",
    "t_d2 = np.sqrt((s_flxs[-1] - s_flxs[0])**2 + (s_fs[-1] - s_fs[0])**2)/20\n",
    "prev = 0\n",
    "for i in range(1, len(s_flxs)):\n",
    "    d_flx = s_flxs[i] - s_flxs[prev]\n",
    "    d_fs = s_fs[i] - s_fs[prev]\n",
    "    d2 = np.sqrt(d_flx**2 + d_fs**2)\n",
    "    if d2 < t_d2:\n",
    "        mask[i] = False\n",
    "    else:\n",
    "        prev = i\n",
    "\n",
    "s_flxs = s_flxs[mask]\n",
    "s_fs = s_fs[mask]"
   ]
  },
  {
   "cell_type": "code",
   "execution_count": null,
   "id": "05133671",
   "metadata": {},
   "outputs": [],
   "source": [
    "plt.figure()\n",
    "plt.pcolormesh(flxs, fpts, spectrum.T)\n",
    "plt.scatter(s_flxs, s_fs, c='r')\n",
    "plt.show()"
   ]
  },
  {
   "cell_type": "code",
   "execution_count": 12,
   "id": "66425b7a",
   "metadata": {},
   "outputs": [],
   "source": [
    "from scipy.optimize import minimize\n",
    "\n",
    "\n",
    "def fit_spectrum(flxs, fpts, params, maxfun=10):\n",
    "    \"\"\"\n",
    "    Fit the fluxonium spectrum to the experimental spectrum\n",
    "    flxs: 1D array of flux values, shape (n,)\n",
    "    fpts: 2D array of transition frequencies, shape (n,)\n",
    "    \"\"\"\n",
    "\n",
    "    def loss_func(params):\n",
    "        energies = calculate_spectrum(flxs, *params, 4, cutoff=50)\n",
    "\n",
    "        # only fit 0-1, 0-2, 1-2, 0-3, 1-3\n",
    "        fs = []\n",
    "        for i, j in transitions:\n",
    "            fs.append(energies[:, j] - energies[:, i])\n",
    "        fs = np.stack(fs, axis=1) # (n, m)\n",
    "        dist = np.abs(fpts[:, None] - fs) # (n, m)\n",
    "        # loss_fs = np.nanmin(loss_fs, axis=1) # (n,)\n",
    "        dist = dist / weights[None, :] # make some transitions more attractive\n",
    "        loss_fs = np.nanmin(dist, axis=1) # (n,)\n",
    "\n",
    "        return np.nansum(loss_fs)\n",
    "\n",
    "    res = minimize(\n",
    "        loss_func,\n",
    "        params,\n",
    "        bounds=(EJb, ECb, ELb),\n",
    "        method=\"L-BFGS-B\",\n",
    "        options={\"maxfun\": maxfun},\n",
    "    )\n",
    "\n",
    "    return res.x"
   ]
  },
  {
   "cell_type": "code",
   "execution_count": null,
   "id": "f361cf6e",
   "metadata": {},
   "outputs": [],
   "source": [
    "# fit the spectrumData\n",
    "sp_params = fit_spectrum(s_flxs, s_fs, params=nn_params, maxfun=50)\n",
    "\n",
    "# print the results\n",
    "print(\"True params:\", EJ, EC, EL)\n",
    "print(\"Fitted params:\", *sp_params)"
   ]
  },
  {
   "cell_type": "code",
   "execution_count": null,
   "id": "56f1996c",
   "metadata": {},
   "outputs": [],
   "source": [
    "f_energies = calculate_spectrum(flxs, *sp_params, level, 50)"
   ]
  },
  {
   "cell_type": "code",
   "execution_count": null,
   "id": "6db9ee09",
   "metadata": {},
   "outputs": [],
   "source": [
    "for i, j in transitions:\n",
    "    plt.plot(flxs, f_energies[:, j] - f_energies[:, i], label=f\"{i}-{j}\")\n",
    "\n",
    "# plot the true values in dashed lines\n",
    "for i, j in transitions:\n",
    "    plt.plot(flxs, energies[:, j] - energies[:, i], \"--\", label=f\"{i}-{j}\")\n",
    "\n",
    "plt.scatter(s_flxs, s_fs, color=\"red\")\n",
    "plt.ylim(FreqB)\n",
    "plt.legend()\n",
    "plt.show()"
   ]
  },
  {
   "cell_type": "code",
   "execution_count": null,
   "id": "d124f845",
   "metadata": {},
   "outputs": [],
   "source": []
  }
 ],
 "metadata": {
  "jupytext": {
   "cell_metadata_filter": "-all",
   "formats": "ipynb,py:percent"
  },
  "kernelspec": {
   "display_name": "Python 3",
   "language": "python",
   "name": "python3"
  },
  "language_info": {
   "codemirror_mode": {
    "name": "ipython",
    "version": 3
   },
   "file_extension": ".py",
   "mimetype": "text/x-python",
   "name": "python",
   "nbconvert_exporter": "python",
   "pygments_lexer": "ipython3",
   "version": "3.12.8"
  }
 },
 "nbformat": 4,
 "nbformat_minor": 5
}
