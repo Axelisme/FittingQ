{
 "cells": [
  {
   "cell_type": "code",
   "execution_count": 1,
   "id": "8839561e",
   "metadata": {},
   "outputs": [],
   "source": [
    "import numpy as np\n",
    "from scqubits import Fluxonium\n",
    "import matplotlib.pyplot as plt\n",
    "\n",
    "\n",
    "def calculate_energy(flxs, EJ, EC, EL, cutoff=50):\n",
    "    fluxonium = Fluxonium(EJ, EC, EL, flux=0.0, cutoff=cutoff, truncated_dim=10)\n",
    "    spectrumData = fluxonium.get_spectrum_vs_paramvals(\n",
    "        \"flux\", flxs, evals_count=10\n",
    "    )\n",
    "\n",
    "    return spectrumData.energy_table"
   ]
  },
  {
   "cell_type": "markdown",
   "id": "caf72611",
   "metadata": {},
   "source": [
    "# load data"
   ]
  },
  {
   "cell_type": "code",
   "execution_count": 2,
   "id": "04e0afc8",
   "metadata": {},
   "outputs": [],
   "source": [
    "import h5py\n",
    "\n",
    "def load_data(file_path):\n",
    "    with h5py.File(file_path, \"r\") as file:\n",
    "        data = file[\"Data\"]['Data']\n",
    "        if data.shape[2] == 1: # 1D data,\n",
    "            x_data = data[:, 0, 0][:]\n",
    "            y_data = None\n",
    "            z_data = data[:, 1, 0][:] + 1j * data[:, 2, 0][:]\n",
    "        else:\n",
    "            x_data = data[:, 0, 0][:]\n",
    "            y_data = data[0, 1, :][:]\n",
    "            z_data = data[:, 2, :][:] + 1j * data[:, 3, :][:]\n",
    "    return z_data, x_data, y_data\n",
    "\n",
    "def convert2max_contrast(Is: np.ndarray, Qs: np.ndarray):\n",
    "    # calculate the covariance matrix\n",
    "    cov = np.cov(Is, Qs)\n",
    "\n",
    "    # calculate the eigenvalues and eigenvectors\n",
    "    eigenvalues, eigenvectors = np.linalg.eig(cov)\n",
    "\n",
    "    # sort the eigenvectors by decreasing eigenvalues\n",
    "    idx = eigenvalues.argsort()[::-1]\n",
    "    eigenvalues = eigenvalues[idx]\n",
    "    eigenvectors = eigenvectors[:, idx]\n",
    "\n",
    "    # rotate the data\n",
    "    data = np.vstack([Is, Qs])\n",
    "    data_rot = np.dot(eigenvectors.T, data)\n",
    "\n",
    "    return data_rot[0], data_rot[1]\n",
    "\n",
    "spectrum, fpts, flxs = load_data(\"qub_flux_dep.hdf5\")\n",
    "fpts /= 1e9 # convert to GHz\n",
    "\n",
    "sps =[]\n",
    "for i in range(spectrum.shape[1]):\n",
    "    sp, _ = convert2max_contrast(spectrum[:, i].real, spectrum[:, i].imag)\n",
    "    sps.append(sp)\n",
    "spectrum = np.array(sps).T\n",
    "\n",
    "spectrum = spectrum - np.median(spectrum, axis=0)\n",
    "spectrum = np.abs(spectrum)\n",
    "\n",
    "\n",
    "if flxs[0] > flxs[-1]: # Ensure that the fluxes are in increasing\n",
    "    flxs = flxs[::-1]\n",
    "    spectrum = spectrum[:, ::-1]\n",
    "if fpts[0] > fpts[-1]: # Ensure that the frequencies are in increasing\n",
    "    fpts = fpts[::-1]\n",
    "    spectrum = spectrum[::-1, :]"
   ]
  },
  {
   "cell_type": "code",
   "execution_count": null,
   "id": "3b04823d",
   "metadata": {},
   "outputs": [],
   "source": [
    "plt.imshow(spectrum, aspect='auto', origin='lower', extent=(flxs[0], flxs[-1], fpts[0], fpts[-1]))"
   ]
  },
  {
   "cell_type": "code",
   "execution_count": 4,
   "id": "1fa21cc8",
   "metadata": {},
   "outputs": [],
   "source": [
    "center = -0.0029338\n",
    "halfp = 0.00436\n",
    "\n",
    "cflxs = (flxs - center) / (2*halfp) + 0.5"
   ]
  },
  {
   "cell_type": "code",
   "execution_count": null,
   "id": "bf8520c7",
   "metadata": {},
   "outputs": [],
   "source": [
    "plt.imshow(spectrum, aspect='auto', origin='lower', extent=(cflxs[0], cflxs[-1], fpts[0], fpts[-1]))\n",
    "plt.axvline(0.5, color='r')\n",
    "plt.axvline(1.0, color='r')"
   ]
  },
  {
   "cell_type": "code",
   "execution_count": 6,
   "id": "53de9ad6",
   "metadata": {},
   "outputs": [],
   "source": [
    "flxs = cflxs"
   ]
  },
  {
   "cell_type": "code",
   "execution_count": 27,
   "id": "53f5cb47",
   "metadata": {},
   "outputs": [],
   "source": [
    "from scipy.ndimage import gaussian_filter1d\n",
    "\n",
    "def spectrum_analyze(flxs, fpts, amps, ratio):\n",
    "    # use guassian filter to smooth the spectrum\n",
    "    amps = gaussian_filter1d(amps, 3, axis=0)\n",
    "    amps = amps - np.median(amps, axis=0)\n",
    "    amps = np.abs(amps)\n",
    "    amps /= np.std(amps)\n",
    "\n",
    "    # plot max point and min point of each row\n",
    "    max_ids = np.argmax(amps, axis=0)\n",
    "    maxs = amps[max_ids, np.arange(amps.shape[1])]\n",
    "\n",
    "    # max points\n",
    "    max_masks = maxs < ratio\n",
    "    fs = fpts[max_ids]\n",
    "    fs[max_masks] = np.nan\n",
    "    mask = ~np.isnan(fs)\n",
    "\n",
    "    return flxs[mask], fs[mask]\n",
    "\n",
    "def remove_close_points(flxs, fs, dist_ratio):\n",
    "    # remove some close points\n",
    "    mask = np.ones(len(flxs), dtype=bool)\n",
    "    t_d2 = np.sqrt((flxs[-1] - flxs[0])**2 + (fs[-1] - fs[0])**2) * dist_ratio\n",
    "    prev = 0\n",
    "    for i in range(1, len(flxs)):\n",
    "        d_flx = flxs[i] - flxs[prev]\n",
    "        d_fs = fs[i] - fs[prev]\n",
    "        d2 = np.sqrt(d_flx**2 + d_fs**2)\n",
    "        if d2 < t_d2:\n",
    "            mask[i] = False\n",
    "        else:\n",
    "            prev = i\n",
    "\n",
    "    return flxs[mask], fs[mask]\n",
    "\n",
    "s_flxs, s_fs = spectrum_analyze(flxs, fpts, spectrum, 5.0)\n",
    "# s_flxs, s_fs = remove_close_points(s_flxs, s_fs, 0.02)"
   ]
  },
  {
   "cell_type": "code",
   "execution_count": 28,
   "id": "d2dfe449",
   "metadata": {},
   "outputs": [],
   "source": [
    "# manual remove some points\n",
    "remove_idxs = [9, 22, 23, 24, 25, 26]\n",
    "s_flxs = np.delete(s_flxs, remove_idxs)\n",
    "s_fs = np.delete(s_fs, remove_idxs)"
   ]
  },
  {
   "cell_type": "code",
   "execution_count": null,
   "id": "03b3be73",
   "metadata": {},
   "outputs": [],
   "source": [
    "plt.imshow(spectrum, aspect='auto', origin='lower', extent=(flxs[0], flxs[-1], fpts[0], fpts[-1]))\n",
    "plt.scatter(s_flxs, s_fs, color='r', s=3)"
   ]
  },
  {
   "cell_type": "code",
   "execution_count": null,
   "id": "75211d85",
   "metadata": {},
   "outputs": [],
   "source": [
    "import h5py as h5\n",
    "\n",
    "with h5.File(\"data/fluxonium_2.h5\", \"r\") as file:\n",
    "    h_flxs = file[\"flxs\"][:]  # type: ignore\n",
    "    h_params = file[\"params\"][:]  # type: ignore\n",
    "    h_energies = file[\"energies\"][:]  # type: ignore\n",
    "\n",
    "transitions = [(0, 1), (0, 2), (1, 3)]\n",
    "def dist_to_curve(energies, s_fs):\n",
    "    fs = []\n",
    "    for i, j in transitions:\n",
    "        fs.append(energies[:, j] - energies[:, i])\n",
    "    fs = np.array(fs).T # (n, m)\n",
    "\n",
    "    dist = np.abs(fs - s_fs[:, None]) # (n, m)\n",
    "    dist = np.nanmin(dist, axis=1) # (n, )\n",
    "\n",
    "    return np.nansum(dist)\n",
    "\n",
    "# find the closest index in energy to s_fs\n",
    "sf_flxs = np.mod(s_flxs, 1.0)\n",
    "d2 = (h_flxs[:, None] - sf_flxs[None, :])**2 # (m, m')\n",
    "idxs = np.argmin(d2, axis=0) # (m', )\n",
    "\n",
    "best_params = None\n",
    "best_energy = None\n",
    "best_dist = float(\"inf\")\n",
    "for i in range(h_params.shape[0]):\n",
    "    energy = h_energies[i, idxs]\n",
    "\n",
    "    dist = dist_to_curve(energy, s_fs)\n",
    "    if dist < best_dist:\n",
    "        best_dist = dist\n",
    "        best_energy = h_energies[i]\n",
    "        best_params = h_params[i]\n",
    "print(best_params)\n"
   ]
  },
  {
   "cell_type": "code",
   "execution_count": null,
   "id": "be33fcf8",
   "metadata": {},
   "outputs": [],
   "source": [
    "f_energies = calculate_energy(flxs, *best_params, cutoff=60)"
   ]
  },
  {
   "cell_type": "code",
   "execution_count": null,
   "id": "b10f5c7f",
   "metadata": {},
   "outputs": [],
   "source": [
    "plt.imshow(spectrum, aspect=\"auto\", origin=\"lower\", extent=(flxs[0], flxs[-1], fpts[0], fpts[-1]))\n",
    "for i, j in transitions:\n",
    "    plt.plot(flxs, f_energies[:, j] - f_energies[:, i], label=f\"{i} -> {j}\")\n",
    "    # plt.plot(h_flxs, best_energy[:, j] - best_energy[:, i], label=f\"{i} -> {j}\")\n",
    "plt.scatter(s_flxs, s_fs, c='r', s=3)\n",
    "plt.ylim(fpts[0], fpts[-1])\n",
    "plt.xlim(flxs[0], flxs[-1])\n",
    "plt.legend()"
   ]
  },
  {
   "cell_type": "markdown",
   "id": "6cc9f5f9",
   "metadata": {},
   "source": [
    "# Scipy"
   ]
  },
  {
   "cell_type": "code",
   "execution_count": 33,
   "id": "7893d678",
   "metadata": {},
   "outputs": [],
   "source": [
    "EJb = (3.5, 6.5)\n",
    "ECb = (0.3, 1.5)\n",
    "ELb = (0.7, 2.5)"
   ]
  },
  {
   "cell_type": "code",
   "execution_count": 34,
   "id": "66425b7a",
   "metadata": {},
   "outputs": [],
   "source": [
    "from scipy.optimize import minimize\n",
    "\n",
    "def fit_spectrum(flxs, fpts, params):\n",
    "    def loss_func(params):\n",
    "        energies = calculate_energy(flxs, *params, cutoff=50)\n",
    "\n",
    "        fs = []\n",
    "        for i, j in transitions:\n",
    "            fs.append(energies[:, j] - energies[:, i])\n",
    "        fs = np.stack(fs, axis=1) # (n, m)\n",
    "        dist = np.abs(fpts[:, None] - fs) # (n, m)\n",
    "        loss_fs = np.nanmin(dist, axis=1) # (n,)\n",
    "\n",
    "        return np.nansum(loss_fs)\n",
    "\n",
    "    # aim to find current curve\n",
    "    res = minimize(\n",
    "        loss_func,\n",
    "        params,\n",
    "        bounds=(EJb, ECb, ELb),\n",
    "        method=\"L-BFGS-B\",\n",
    "        options={\"maxfun\": 50},\n",
    "    )\n",
    "\n",
    "    return res.x"
   ]
  },
  {
   "cell_type": "code",
   "execution_count": null,
   "id": "f361cf6e",
   "metadata": {},
   "outputs": [],
   "source": [
    "# fit the spectrumData\n",
    "sp_params = fit_spectrum(s_flxs, s_fs, params=best_params)\n",
    "\n",
    "# print the results\n",
    "print(\"Fitted params:\", *sp_params)"
   ]
  },
  {
   "cell_type": "code",
   "execution_count": null,
   "id": "56f1996c",
   "metadata": {},
   "outputs": [],
   "source": [
    "f_energies = calculate_energy(flxs, *sp_params, 60)"
   ]
  },
  {
   "cell_type": "code",
   "execution_count": null,
   "id": "6db9ee09",
   "metadata": {},
   "outputs": [],
   "source": [
    "# plt.pcolormesh(flxs, fpts, spectrum)\n",
    "plt.imshow(spectrum, aspect='auto', origin='lower', extent=(flxs[0], flxs[-1], fpts[0], fpts[-1]))\n",
    "\n",
    "for i, j in transitions:\n",
    "    plt.plot(flxs, f_energies[:, j] - f_energies[:, i], label=f\"{i}-{j}\")\n",
    "\n",
    "plt.scatter(s_flxs, s_fs, color=\"red\")\n",
    "plt.ylim(fpts[0], fpts[-1])\n",
    "plt.legend()"
   ]
  },
  {
   "cell_type": "code",
   "execution_count": null,
   "id": "d124f845",
   "metadata": {},
   "outputs": [],
   "source": []
  }
 ],
 "metadata": {
  "jupytext": {
   "cell_metadata_filter": "-all",
   "formats": "ipynb,py:percent"
  },
  "kernelspec": {
   "display_name": "Python 3",
   "language": "python",
   "name": "python3"
  },
  "language_info": {
   "codemirror_mode": {
    "name": "ipython",
    "version": 3
   },
   "file_extension": ".py",
   "mimetype": "text/x-python",
   "name": "python",
   "nbconvert_exporter": "python",
   "pygments_lexer": "ipython3",
   "version": "3.12.8"
  }
 },
 "nbformat": 4,
 "nbformat_minor": 5
}
