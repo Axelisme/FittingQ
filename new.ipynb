{
 "cells": [
  {
   "cell_type": "code",
   "execution_count": 1,
   "id": "8839561e",
   "metadata": {},
   "outputs": [],
   "source": [
    "import numpy as np\n",
    "from scqubits import Fluxonium\n",
    "\n",
    "def calculate_spectrum(flxs, EJ, EC, EL, evals_count=4, cutoff=50):\n",
    "    fluxonium = Fluxonium(EJ, EC, EL, flux=0.0, cutoff=cutoff, truncated_dim=evals_count)\n",
    "    spectrumData = fluxonium.get_spectrum_vs_paramvals(\n",
    "        \"flux\", flxs, evals_count=evals_count\n",
    "    )\n",
    "\n",
    "    return spectrumData.energy_table"
   ]
  },
  {
   "cell_type": "code",
   "execution_count": 2,
   "id": "6fb2c02e",
   "metadata": {},
   "outputs": [],
   "source": [
    "EJb = (4.0, 6.0)\n",
    "ECb = (0.5, 1.0)\n",
    "ELb = (1.0, 2.0)\n",
    "\n",
    "transitions = [(0, 1), (0, 2), (1, 2), (0, 3), (1, 3), (0, 4), (1, 4)]\n",
    "weights = np.array([2, 1, 0.5, 0.5, 0.2, 0.2, 0.1])\n",
    "\n",
    "max_level = 5"
   ]
  },
  {
   "cell_type": "markdown",
   "id": "caf72611",
   "metadata": {},
   "source": [
    "# load data"
   ]
  },
  {
   "cell_type": "code",
   "execution_count": 7,
   "id": "04e0afc8",
   "metadata": {},
   "outputs": [],
   "source": [
    "def load_data(file_path):\n",
    "    import h5py\n",
    "    with h5py.File(file_path, \"r\") as file:\n",
    "        data = file[\"Data\"]['Data']\n",
    "        if data.shape[2] == 1: # 1D data,\n",
    "            x_data = data[:, 0, 0][:]\n",
    "            y_data = None\n",
    "            z_data = data[:, 1, 0][:] + 1j * data[:, 2, 0][:]\n",
    "        else:\n",
    "            x_data = data[:, 0, 0][:]\n",
    "            y_data = data[0, 1, :][:]\n",
    "            z_data = data[:, 2, :][:] + 1j * data[:, 3, :][:]\n",
    "    return z_data, x_data, y_data\n",
    "\n",
    "spectrum, fpts, flxs = load_data(\"qub_flux_dep.hdf5\")\n",
    "fpts /= 1e9 # convert to GHz\n",
    "spectrum = np.abs(spectrum)\n",
    "\n",
    "if flxs[0] > flxs[-1]: # Ensure that the fluxes are in increasing\n",
    "    flxs = flxs[::-1]\n",
    "    spectrum = spectrum[:, ::-1]"
   ]
  },
  {
   "cell_type": "code",
   "execution_count": null,
   "id": "3b04823d",
   "metadata": {},
   "outputs": [],
   "source": [
    "import matplotlib.pyplot as plt\n",
    "\n",
    "plt.imshow(spectrum, aspect='auto', origin='lower', extent=(flxs[0], flxs[-1], fpts[0], fpts[-1]))"
   ]
  },
  {
   "cell_type": "code",
   "execution_count": 9,
   "id": "1fa21cc8",
   "metadata": {},
   "outputs": [],
   "source": [
    "center = -0.00295\n",
    "halfp = 0.00435\n",
    "\n",
    "cflxs = (flxs - center) / (2*halfp) + 0.5"
   ]
  },
  {
   "cell_type": "code",
   "execution_count": null,
   "id": "bf8520c7",
   "metadata": {},
   "outputs": [],
   "source": [
    "import matplotlib.pyplot as plt\n",
    "\n",
    "plt.imshow(spectrum, aspect='auto', origin='lower')\n",
    "plt.axvline(np.argmin(np.abs(cflxs - 0.5)), color='r')\n",
    "plt.axvline(np.argmin(np.abs(cflxs - 1.0)), color='r')"
   ]
  },
  {
   "cell_type": "code",
   "execution_count": 11,
   "id": "53de9ad6",
   "metadata": {},
   "outputs": [],
   "source": [
    "flxs = cflxs"
   ]
  },
  {
   "cell_type": "markdown",
   "id": "46693a25",
   "metadata": {},
   "source": [
    "# NN"
   ]
  },
  {
   "cell_type": "code",
   "execution_count": null,
   "id": "7810ea43",
   "metadata": {},
   "outputs": [],
   "source": [
    "sample_flxs.shape, n_spectrum.shape"
   ]
  },
  {
   "cell_type": "code",
   "execution_count": 45,
   "id": "37a6baf7",
   "metadata": {},
   "outputs": [],
   "source": [
    "# make the spectrum symmetric around 0.5\n",
    "center_idx = np.argmin(np.abs(flxs - 0.5)).item()\n",
    "period_len = int(1.0 / (flxs[1] - flxs[0]))\n",
    "\n",
    "# pad the spectrum with zeros to make it symmetric\n",
    "pad_before = period_len - center_idx\n",
    "pad_after = period_len - (len(flxs) - center_idx + 1)\n",
    "n_spectrum = np.pad(spectrum, ((0, 0), (pad_before, pad_after)), 'constant')\n",
    "center_id = center_idx + pad_before\n",
    "\n",
    "# flip filled part of the spectrum\n",
    "n_spectrum = np.where(n_spectrum != 0, n_spectrum, n_spectrum[:, ::-1])\n",
    "\n",
    "# truncate the spectrum to the period\n",
    "n_spectrum = n_spectrum[:, center_id - period_len//2:center_id + period_len//2]\n",
    "pad_flxs = np.linspace(-0.0, 1.0, n_spectrum.shape[1])\n",
    "\n",
    "# resample to (300, 121)\n",
    "sample_fpts = np.linspace(fpts[0], fpts[-1], 300)\n",
    "n_spectrum = np.array([\n",
    "    np.interp(sample_fpts, fpts, n_spectrum[:, i]) for i in range(n_spectrum.shape[1])\n",
    "]).T\n",
    "sample_flxs = np.linspace(0.0, 1.0, 121)\n",
    "n_spectrum = np.array([\n",
    "    np.interp(sample_flxs, pad_flxs, n_spectrum[i, :]) for i in range(n_spectrum.shape[0])\n",
    "])"
   ]
  },
  {
   "cell_type": "code",
   "execution_count": null,
   "id": "ed6c4b19",
   "metadata": {},
   "outputs": [],
   "source": [
    "import matplotlib.pyplot as plt\n",
    "\n",
    "meds = np.median(n_spectrum, axis=0)\n",
    "n_spectrum = n_spectrum - meds\n",
    "\n",
    "plt.imshow(n_spectrum, aspect='auto', origin='lower')"
   ]
  },
  {
   "cell_type": "code",
   "execution_count": null,
   "id": "c6d22a80",
   "metadata": {},
   "outputs": [],
   "source": [
    "# fit the spectrumData\n",
    "import torch\n",
    "from modules.model import PredictNet\n",
    "from modules.baseblock import ResNet18\n",
    "from torch.nn import MSELoss\n",
    "\n",
    "model_path = \"ckpt/resnet18.pth\"\n",
    "model = PredictNet(ResNet18)\n",
    "model.load_state_dict(torch.load(model_path, weights_only=True))\n",
    "criterion = MSELoss()\n",
    "\n",
    "model.eval()\n",
    "model.cuda()\n",
    "criterion.cuda()\n",
    "with torch.no_grad():\n",
    "    nn_params = model(torch.tensor(\n",
    "        n_spectrum.T,\n",
    "        dtype=torch.float32,\n",
    "        device=\"cuda\"\n",
    "    )[None, ...]).cpu().numpy()[0].tolist()\n",
    "\n",
    "    nn_params = (\n",
    "        nn_params[0] * (EJb[1] - EJb[0]) + EJb[0],\n",
    "        nn_params[1] * (ECb[1] - ECb[0]) + ECb[0],\n",
    "        nn_params[2] * (ELb[1] - ELb[0]) + ELb[0],\n",
    "    )\n",
    "\n",
    "# print the results\n",
    "print(\"Fitted params:\", *nn_params)"
   ]
  },
  {
   "cell_type": "code",
   "execution_count": null,
   "id": "7f2f643d",
   "metadata": {},
   "outputs": [],
   "source": [
    "f_energies = calculate_spectrum(sample_flxs, *nn_params, max_level, 50)"
   ]
  },
  {
   "cell_type": "code",
   "execution_count": null,
   "id": "a8be41f8",
   "metadata": {},
   "outputs": [],
   "source": [
    "import matplotlib.pyplot as plt\n",
    "\n",
    "plt.pcolormesh(sample_flxs, sample_fpts, n_spectrum)\n",
    "\n",
    "for i, j in transitions:\n",
    "    plt.plot(sample_flxs, f_energies[:, j] - f_energies[:, i], label=f\"{i}-{j}\")\n",
    "\n",
    "plt.ylim(sample_fpts[0], sample_fpts[-1])\n",
    "plt.legend()\n",
    "plt.show()"
   ]
  },
  {
   "cell_type": "markdown",
   "id": "6cc9f5f9",
   "metadata": {},
   "source": [
    "# Scipy"
   ]
  },
  {
   "cell_type": "code",
   "execution_count": 9,
   "id": "9bd2fc4b",
   "metadata": {},
   "outputs": [],
   "source": [
    "nn_params = (\n",
    "    0.5*(EJb[0] + EJb[1]),\n",
    "    0.5*(ECb[0] + ECb[1]),\n",
    "    0.5*(ELb[0] + ELb[1]),\n",
    ")"
   ]
  },
  {
   "cell_type": "code",
   "execution_count": 61,
   "id": "19214468",
   "metadata": {},
   "outputs": [],
   "source": [
    "from scipy.ndimage import gaussian_filter1d\n",
    "\n",
    "def NormalizeData(signals2D: np.ndarray, axis=None) -> np.ndarray:\n",
    "    # normalize on given axis\n",
    "    mins = np.nanmin(signals2D, axis=axis, keepdims=True)\n",
    "    maxs = np.nanmax(signals2D, axis=axis, keepdims=True)\n",
    "    meds = np.nanmedian(signals2D, axis=axis, keepdims=True)\n",
    "    return (signals2D - meds) / (maxs - mins)\n",
    "\n",
    "def spectrum_analyze(flxs, fpts, amps, ratio):\n",
    "    \"\"\"\n",
    "    flxs: 1D array, flux points\n",
    "    fpts: 1D array, frequency points\n",
    "    amps: 2D array, shape: (len(fpts), len(flxs))\n",
    "    \"\"\"\n",
    "    # use guassian filter to smooth the spectrum\n",
    "    amps = gaussian_filter1d(amps, 3, axis=0)\n",
    "    amps = NormalizeData(amps, 0)  # normalize on frequency axis\n",
    "    amps = np.abs(amps)\n",
    "\n",
    "    # plot max point and min point of each row\n",
    "    max_ids = np.argmax(amps, axis=0)\n",
    "    maxs = amps[max_ids, np.arange(amps.shape[1])]\n",
    "\n",
    "    # max points\n",
    "    max_masks = maxs >= ratio\n",
    "    fs = fpts[max_ids]\n",
    "    fs[~max_masks] = np.nan\n",
    "    mask = ~np.isnan(fs)\n",
    "\n",
    "    return flxs[mask], fs[mask]\n",
    "\n",
    "def remove_close_points(flxs, fs, t_ratio):\n",
    "    # remove close points\n",
    "    mask = np.ones(flxs.shape, dtype=bool)\n",
    "    t_d = np.sqrt((flxs[-1] - flxs[0])**2 + (fs[-1] - fs[0])**2)\n",
    "    prev = 0\n",
    "    for i in range(1, len(flxs)):\n",
    "        d_flx = flxs[i] - flxs[prev]\n",
    "        d_fs = fs[i] - fs[prev]\n",
    "        d2 = np.sqrt(d_flx**2 + d_fs**2)\n",
    "        if d2 < t_d * t_ratio:\n",
    "            mask[i] = False\n",
    "        else:\n",
    "            prev = i\n",
    "    return flxs[mask], fs[mask]\n",
    "\n",
    "s_flxs, s_fs = spectrum_analyze(flxs, fpts, spectrum, 0.7)"
   ]
  },
  {
   "cell_type": "code",
   "execution_count": 59,
   "id": "2907f139",
   "metadata": {},
   "outputs": [],
   "source": [
    "# remove some close points\n",
    "s_flxs, s_fs = remove_close_points(s_flxs, s_fs, 0.01)"
   ]
  },
  {
   "cell_type": "code",
   "execution_count": null,
   "id": "05133671",
   "metadata": {},
   "outputs": [],
   "source": [
    "import matplotlib.pyplot as plt\n",
    "\n",
    "plt.figure()\n",
    "plt.pcolormesh(flxs, fpts, spectrum)\n",
    "plt.scatter(s_flxs, s_fs, c='r')\n",
    "plt.show()"
   ]
  },
  {
   "cell_type": "code",
   "execution_count": 63,
   "id": "66425b7a",
   "metadata": {},
   "outputs": [],
   "source": [
    "from scipy.optimize import minimize\n",
    "\n",
    "\n",
    "def fit_spectrum(flxs, fpts, params, maxfun=10):\n",
    "    \"\"\"\n",
    "    Fit the fluxonium spectrum to the experimental spectrum\n",
    "    flxs: 1D array of flux values, shape (n,)\n",
    "    fpts: 2D array of transition frequencies, shape (n,)\n",
    "    \"\"\"\n",
    "\n",
    "    def loss_func(params):\n",
    "        energies = calculate_spectrum(flxs, *params, max_level, cutoff=50)\n",
    "\n",
    "        fs = []\n",
    "        for i, j in transitions:\n",
    "            fs.append(energies[:, j] - energies[:, i])\n",
    "        fs = np.stack(fs, axis=1) # (n, m)\n",
    "        dist = np.abs(fpts[:, None] - fs) # (n, m)\n",
    "        # loss_fs = np.nanmin(loss_fs, axis=1) # (n,)\n",
    "        dist = dist / weights[None, :] # make some transitions more attractive\n",
    "        loss_fs = np.nanmin(dist, axis=1) # (n,)\n",
    "\n",
    "        return np.nansum(loss_fs)\n",
    "\n",
    "    res = minimize(\n",
    "        loss_func,\n",
    "        params,\n",
    "        bounds=(EJb, ECb, ELb),\n",
    "        method=\"L-BFGS-B\",\n",
    "        options={\"maxfun\": maxfun},\n",
    "    )\n",
    "\n",
    "    return res.x"
   ]
  },
  {
   "cell_type": "code",
   "execution_count": null,
   "id": "f361cf6e",
   "metadata": {},
   "outputs": [],
   "source": [
    "# fit the spectrumData\n",
    "sp_params = fit_spectrum(s_flxs, s_fs, params=nn_params, maxfun=50)\n",
    "\n",
    "# print the results\n",
    "print(\"Fitted params:\", *sp_params)"
   ]
  },
  {
   "cell_type": "code",
   "execution_count": null,
   "id": "56f1996c",
   "metadata": {},
   "outputs": [],
   "source": [
    "f_energies = calculate_spectrum(flxs, *sp_params, max_level, 50)"
   ]
  },
  {
   "cell_type": "code",
   "execution_count": null,
   "id": "6db9ee09",
   "metadata": {},
   "outputs": [],
   "source": [
    "# plt.pcolormesh(flxs, fpts, spectrum)\n",
    "plt.pcolormesh(sample_flxs, sample_fpts, n_spectrum)\n",
    "\n",
    "for i, j in transitions:\n",
    "    plt.plot(flxs, f_energies[:, j] - f_energies[:, i], label=f\"{i}-{j}\")\n",
    "\n",
    "plt.scatter(s_flxs, s_fs, color=\"red\")\n",
    "plt.ylim(fpts[0], fpts[-1])\n",
    "plt.legend()\n",
    "plt.show()"
   ]
  },
  {
   "cell_type": "code",
   "execution_count": null,
   "id": "d124f845",
   "metadata": {},
   "outputs": [],
   "source": []
  }
 ],
 "metadata": {
  "jupytext": {
   "cell_metadata_filter": "-all",
   "formats": "ipynb,py:percent"
  },
  "kernelspec": {
   "display_name": "Python 3",
   "language": "python",
   "name": "python3"
  },
  "language_info": {
   "codemirror_mode": {
    "name": "ipython",
    "version": 3
   },
   "file_extension": ".py",
   "mimetype": "text/x-python",
   "name": "python",
   "nbconvert_exporter": "python",
   "pygments_lexer": "ipython3",
   "version": "3.12.2"
  }
 },
 "nbformat": 4,
 "nbformat_minor": 5
}
